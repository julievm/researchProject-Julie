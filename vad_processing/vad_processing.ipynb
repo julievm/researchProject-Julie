{
 "cells": [
  {
   "cell_type": "code",
   "execution_count": 1,
   "id": "da936dee",
   "metadata": {},
   "outputs": [],
   "source": [
    "from scipy.io import wavfile\n",
    "import numpy as np\n",
    "import matplotlib.pyplot as plt"
   ]
  },
  {
   "cell_type": "code",
   "execution_count": 2,
   "id": "2f277b2e",
   "metadata": {},
   "outputs": [],
   "source": [
    "# This function seeks all turns which are smaller than the max_unacceptable_length and sets them to 0\n",
    "# Hence deleting turns that are shorter than max_unacceptable_length\n",
    "def short_turns_to_0(samp, max_unacceptable_length):\n",
    "    edited_samp = np.zeros(len(samp))\n",
    "    prev = 0\n",
    "    \n",
    "    i = 0\n",
    "    while i < len(samp):\n",
    "        s = samp[i]\n",
    "        edited_samp[i] = s\n",
    "        # If there is a step up in the VAD\n",
    "        if prev == 0 and s == 1:\n",
    "            # Check if any in the coming p are 0 (then we have a short turn of p)\n",
    "            for j, s2 in enumerate(samp[i+1:i+1+max_unacceptable_length]):\n",
    "                if s2 == 0:\n",
    "                    # Found a 0 within the allowed time, overwrite all corresponding 1s to 0s\n",
    "                    for k in range(i,i+1+j):\n",
    "                        edited_samp[k] = 0.\n",
    "                    i = i + j\n",
    "                    break\n",
    "        i = i + 1\n",
    "        prev = s \n",
    "    \n",
    "    return edited_samp"
   ]
  },
  {
   "cell_type": "code",
   "execution_count": 3,
   "id": "44c52d5c",
   "metadata": {},
   "outputs": [],
   "source": [
    "# This function seeks all turn pauses which are smaller than the max_pause_length and sets these pauses to 1\n",
    "# Hence merging turns that are less than max_pause_length apart\n",
    "# def pauses_to_1(samp, max_pause_length):\n",
    "#     edited_samp = np.zeros(len(samp))\n",
    "#     prev = 0\n",
    "#\n",
    "#     i = 0\n",
    "#     while i < len(samp):\n",
    "#         s = samp[i]\n",
    "#         edited_samp[i] = s\n",
    "#         # If there is a step down in the VAD\n",
    "#         if prev == 1 and s == 0:\n",
    "#             # Check if any in the coming p are 1 (then we have a pause of p)\n",
    "#             for j, s2 in enumerate(samp[i+1:i+1+max_pause_length]):\n",
    "#                 if s2 == 1:\n",
    "#                     # Found a 1 within the allowed time, overwrite all corresponding 0s to 1s\n",
    "#                     for k in range(i,i+1+j):\n",
    "#                         edited_samp[k] = 1.\n",
    "#                     i = i + j\n",
    "#                     break\n",
    "#         i = i + 1\n",
    "#         prev = s\n",
    "#\n",
    "#     return edited_samp"
   ]
  },
  {
   "cell_type": "code",
   "execution_count": 4,
   "id": "b2bbc6c2",
   "metadata": {},
   "outputs": [],
   "source": [
    "# This function counts the number of turns in a VAD array\n",
    "def count_turns(samp):\n",
    "    prev = 0\n",
    "    total = 0\n",
    "    \n",
    "    for i, s in enumerate(samp):\n",
    "        # If there is a step up in the VAD\n",
    "        if prev == 0 and s == 1:\n",
    "            total += 1\n",
    "        prev = s \n",
    "    \n",
    "    return total"
   ]
  },
  {
   "cell_type": "code",
   "execution_count": 5,
   "id": "e5369e0d",
   "metadata": {},
   "outputs": [],
   "source": [
    "# Visualize a binary array\n",
    "def viz(data):\n",
    "    xaxis = np.arange(0, len(data))\n",
    "    yaxis = np.array(data)\n",
    "    plt.step(xaxis, yaxis)\n",
    "    plt.show()"
   ]
  },
  {
   "cell_type": "markdown",
   "id": "647a55ac",
   "metadata": {},
   "source": [
    "# Processing the LaRed VADs"
   ]
  },
  {
   "cell_type": "code",
   "execution_count": 6,
   "id": "1c56c765",
   "metadata": {},
   "outputs": [],
   "source": [
    "participants = [2, 3, 4, 5, 7, 10, 11, 12, 14, 15, 17, 18, 19, 22, 23, 24, 26, 27, 30, 31, 32, 33, 34, 35]"
   ]
  },
  {
   "cell_type": "code",
   "execution_count": 7,
   "id": "fc564a9a",
   "metadata": {},
   "outputs": [
    {
     "name": "stdout",
     "output_type": "stream",
     "text": [
      "Participant 2 had 1475 turns. 748 turns left.\n",
      "Participant 3 had 1257 turns. 591 turns left.\n",
      "Participant 4 had 955 turns. 484 turns left.\n",
      "Participant 5 had 1090 turns. 579 turns left.\n",
      "Participant 7 had 1792 turns. 730 turns left.\n",
      "Participant 10 had 823 turns. 472 turns left.\n",
      "Participant 11 had 836 turns. 464 turns left.\n",
      "Participant 12 had 758 turns. 375 turns left.\n",
      "Participant 14 had 823 turns. 392 turns left.\n",
      "Participant 15 had 925 turns. 516 turns left.\n",
      "Participant 17 had 992 turns. 466 turns left.\n",
      "Participant 18 had 1305 turns. 738 turns left.\n",
      "Participant 19 had 442 turns. 265 turns left.\n",
      "Participant 22 had 614 turns. 385 turns left.\n",
      "Participant 23 had 1280 turns. 683 turns left.\n",
      "Participant 24 had 1096 turns. 576 turns left.\n",
      "Participant 26 had 997 turns. 482 turns left.\n",
      "Participant 27 had 429 turns. 251 turns left.\n",
      "Participant 30 had 856 turns. 376 turns left.\n",
      "Participant 31 had 409 turns. 193 turns left.\n",
      "Participant 32 had 936 turns. 544 turns left.\n",
      "Participant 33 had 629 turns. 262 turns left.\n",
      "Participant 34 had 319 turns. 173 turns left.\n",
      "Participant 35 had 916 turns. 426 turns left.\n"
     ]
    }
   ],
   "source": [
    "# Keep in mind that it is samples in 100 Hz\n",
    "# So a parameter of 100 means 1 second\n",
    "max_unacceptable_turn_length = 150\n",
    "max_pause_length = 150\n",
    "\n",
    "# The above parameters are optimized empirically by trying values and looking at the resulting VAD\n",
    "# and at the same time listening to the corresponding audio in audacity (for some random data segments).\n",
    "# The VADs processed with these values capture turns quite well.\n",
    "\n",
    "# Process the VAD files by merging turns with a short pause and by removing short turns (likely backchannels)\n",
    "for participant in participants:\n",
    "    samplerate, data = wavfile.read(f'vad/{participant}.wav')\n",
    "   # processed = pauses_to_1(data, max_pause_length)\n",
    "    processed = short_turns_to_0(data, max_unacceptable_turn_length)\n",
    "    \n",
    "    print(f\"Participant {participant} had {count_turns(data)} turns. {count_turns(processed)} turns left.\")\n",
    "    \n",
    "    wavfile.write(f'vad_processed/{participant}.wav', samplerate, processed)"
   ]
  },
  {
   "cell_type": "markdown",
   "id": "29a33c62",
   "metadata": {},
   "source": [
    "# (Appendix) Illustration of difference with order of operations\n",
    "\n",
    "The output can differ depending on whether you apply short_turns_to_0 or pauses_to_1 first. The difference is visualized here. Empirically we found that the second version works best for capturing natural turn-taking behaviour from VAD."
   ]
  },
  {
   "cell_type": "code",
   "execution_count": 8,
   "id": "2f4a59d2",
   "metadata": {},
   "outputs": [
    {
     "name": "stdout",
     "output_type": "stream",
     "text": [
      "Original array:\n",
      "[0. 0. 1. 1. 1. 1. 0. 0. 1. 1. 1. 1. 0. 0. 1. 1. 0. 0. 0. 0. 1. 1. 0.] (4 turns)\n",
      "Processed (short turns to 0 first):\n",
      "[0. 0. 1. 1. 1. 1. 0. 0. 1. 1. 1. 1. 0. 0. 0. 0. 0. 0. 0. 0. 0. 0. 0.] (2 turns)\n",
      "------------------------------------------------------------\n",
      "Original array:\n",
      "[0. 0. 1. 1. 1. 1. 0. 0. 1. 1. 1. 1. 0. 0. 1. 1. 0. 0. 0. 0. 1. 1. 0.] (4 turns)\n",
      "Processed (pauses to 1 first):\n",
      "[0. 0. 1. 1. 1. 1. 0. 0. 1. 1. 1. 1. 0. 0. 0. 0. 0. 0. 0. 0. 0. 0. 0.] (2 turns)\n"
     ]
    },
    {
     "data": {
      "text/plain": "<Figure size 640x480 with 1 Axes>",
      "image/png": "[encoded data removed]"
     },
     "metadata": {},
     "output_type": "display_data"
    },
    {
     "data": {
      "text/plain": "<Figure size 640x480 with 1 Axes>",
      "image/png": "[encoded data removed]"
     },
     "metadata": {},
     "output_type": "display_data"
    },
    {
     "data": {
      "text/plain": "<Figure size 640x480 with 1 Axes>",
      "image/png": "[encoded data removed]"
     },
     "metadata": {},
     "output_type": "display_data"
    }
   ],
   "source": [
    "check = np.array([0., 0., 1., 1., 1., 1., 0., 0., 1., 1., 1., 1., 0, 0, 1., 1., 0., 0., 0., 0., 1., 1., 0.])\n",
    "print(f\"Original array:\\n{check} ({count_turns(check)} turns)\")\n",
    "ed1 = short_turns_to_0(check, 2)\n",
    "#ed1 = pauses_to_1(ed1, 2)\n",
    "print(f\"Processed (short turns to 0 first):\\n{ed1} ({count_turns(ed1)} turns)\")\n",
    "print('-'*60)\n",
    "\n",
    "print(f\"Original array:\\n{check} ({count_turns(check)} turns)\")\n",
    "#ed2 = pauses_to_1(check, 2)\n",
    "ed2 = short_turns_to_0(check, 2)\n",
    "print(f\"Processed (pauses to 1 first):\\n{ed2} ({count_turns(ed2)} turns)\")\n",
    "\n",
    "viz(check)\n",
    "viz(ed1)\n",
    "viz(ed2)"
   ]
  }
 ],
 "metadata": {
  "kernelspec": {
   "display_name": "Python 3 (ipykernel)",
   "language": "python",
   "name": "python3"
  },
  "language_info": {
   "codemirror_mode": {
    "name": "ipython",
    "version": 3
   },
   "file_extension": ".py",
   "mimetype": "text/x-python",
   "name": "python",
   "nbconvert_exporter": "python",
   "pygments_lexer": "ipython3",
   "version": "3.9.2"
  }
 },
 "nbformat": 4,
 "nbformat_minor": 5
}